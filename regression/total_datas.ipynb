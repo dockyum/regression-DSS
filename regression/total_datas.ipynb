{
 "cells": [
  {
   "cell_type": "markdown",
   "metadata": {},
   "source": [
    "# Regression\n",
    "- Fuel Consumption : 100km에 소비하는 양\n",
    "- Fuel Consumption Comb : City/Hwy = 55/45 비율로 섞음\n",
    "- mpg * 0.425 = KM/L (연비)\n",
    "- 의문\n",
    "    1. 여러 변수와 co2 배출량 사이의 관계\n",
    "    2. co2 배출에 가장 큰 영향을 끼치는 변수\n",
    "    3. city와 hwy에 따라 배출량이 다를까"
   ]
  },
  {
   "cell_type": "code",
   "execution_count": 1,
   "metadata": {},
   "outputs": [],
   "source": [
    "import numpy as np\n",
    "import pandas as pd\n",
    "import matplotlib.pyplot as plt\n",
    "import seaborn as sns\n",
    "from scipy import stats\n",
    "from sklearn.model_selection import train_test_split\n",
    "from sklearn.linear_model import LinearRegression\n",
    "from sklearn.metrics import r2_score"
   ]
  },
  {
   "cell_type": "code",
   "execution_count": 2,
   "metadata": {
    "scrolled": true
   },
   "outputs": [
    {
     "data": {
      "text/html": [
       "<div>\n",
       "<style scoped>\n",
       "    .dataframe tbody tr th:only-of-type {\n",
       "        vertical-align: middle;\n",
       "    }\n",
       "\n",
       "    .dataframe tbody tr th {\n",
       "        vertical-align: top;\n",
       "    }\n",
       "\n",
       "    .dataframe thead th {\n",
       "        text-align: right;\n",
       "    }\n",
       "</style>\n",
       "<table border=\"1\" class=\"dataframe\">\n",
       "  <thead>\n",
       "    <tr style=\"text-align: right;\">\n",
       "      <th></th>\n",
       "      <th>Make</th>\n",
       "      <th>Model</th>\n",
       "      <th>Vehicle Class</th>\n",
       "      <th>Engine Size(L)</th>\n",
       "      <th>Cylinders</th>\n",
       "      <th>Transmission</th>\n",
       "      <th>Fuel Type</th>\n",
       "      <th>Fuel Consumption City (L/100 km)</th>\n",
       "      <th>Fuel Consumption Hwy (L/100 km)</th>\n",
       "      <th>Fuel Consumption Comb (L/100 km)</th>\n",
       "      <th>Fuel Consumption Comb (mpg)</th>\n",
       "      <th>CO2 Emissions(g/km)</th>\n",
       "    </tr>\n",
       "  </thead>\n",
       "  <tbody>\n",
       "    <tr>\n",
       "      <th>0</th>\n",
       "      <td>ACURA</td>\n",
       "      <td>ILX</td>\n",
       "      <td>COMPACT</td>\n",
       "      <td>2.0</td>\n",
       "      <td>4</td>\n",
       "      <td>AS5</td>\n",
       "      <td>Z</td>\n",
       "      <td>9.9</td>\n",
       "      <td>6.7</td>\n",
       "      <td>8.5</td>\n",
       "      <td>33</td>\n",
       "      <td>196</td>\n",
       "    </tr>\n",
       "    <tr>\n",
       "      <th>1</th>\n",
       "      <td>ACURA</td>\n",
       "      <td>ILX</td>\n",
       "      <td>COMPACT</td>\n",
       "      <td>2.4</td>\n",
       "      <td>4</td>\n",
       "      <td>M6</td>\n",
       "      <td>Z</td>\n",
       "      <td>11.2</td>\n",
       "      <td>7.7</td>\n",
       "      <td>9.6</td>\n",
       "      <td>29</td>\n",
       "      <td>221</td>\n",
       "    </tr>\n",
       "    <tr>\n",
       "      <th>2</th>\n",
       "      <td>ACURA</td>\n",
       "      <td>ILX HYBRID</td>\n",
       "      <td>COMPACT</td>\n",
       "      <td>1.5</td>\n",
       "      <td>4</td>\n",
       "      <td>AV7</td>\n",
       "      <td>Z</td>\n",
       "      <td>6.0</td>\n",
       "      <td>5.8</td>\n",
       "      <td>5.9</td>\n",
       "      <td>48</td>\n",
       "      <td>136</td>\n",
       "    </tr>\n",
       "    <tr>\n",
       "      <th>3</th>\n",
       "      <td>ACURA</td>\n",
       "      <td>MDX 4WD</td>\n",
       "      <td>SUV - SMALL</td>\n",
       "      <td>3.5</td>\n",
       "      <td>6</td>\n",
       "      <td>AS6</td>\n",
       "      <td>Z</td>\n",
       "      <td>12.7</td>\n",
       "      <td>9.1</td>\n",
       "      <td>11.1</td>\n",
       "      <td>25</td>\n",
       "      <td>255</td>\n",
       "    </tr>\n",
       "    <tr>\n",
       "      <th>4</th>\n",
       "      <td>ACURA</td>\n",
       "      <td>RDX AWD</td>\n",
       "      <td>SUV - SMALL</td>\n",
       "      <td>3.5</td>\n",
       "      <td>6</td>\n",
       "      <td>AS6</td>\n",
       "      <td>Z</td>\n",
       "      <td>12.1</td>\n",
       "      <td>8.7</td>\n",
       "      <td>10.6</td>\n",
       "      <td>27</td>\n",
       "      <td>244</td>\n",
       "    </tr>\n",
       "  </tbody>\n",
       "</table>\n",
       "</div>"
      ],
      "text/plain": [
       "    Make       Model Vehicle Class  Engine Size(L)  Cylinders Transmission  \\\n",
       "0  ACURA         ILX       COMPACT             2.0          4          AS5   \n",
       "1  ACURA         ILX       COMPACT             2.4          4           M6   \n",
       "2  ACURA  ILX HYBRID       COMPACT             1.5          4          AV7   \n",
       "3  ACURA     MDX 4WD   SUV - SMALL             3.5          6          AS6   \n",
       "4  ACURA     RDX AWD   SUV - SMALL             3.5          6          AS6   \n",
       "\n",
       "  Fuel Type  Fuel Consumption City (L/100 km)  \\\n",
       "0         Z                               9.9   \n",
       "1         Z                              11.2   \n",
       "2         Z                               6.0   \n",
       "3         Z                              12.7   \n",
       "4         Z                              12.1   \n",
       "\n",
       "   Fuel Consumption Hwy (L/100 km)  Fuel Consumption Comb (L/100 km)  \\\n",
       "0                              6.7                               8.5   \n",
       "1                              7.7                               9.6   \n",
       "2                              5.8                               5.9   \n",
       "3                              9.1                              11.1   \n",
       "4                              8.7                              10.6   \n",
       "\n",
       "   Fuel Consumption Comb (mpg)  CO2 Emissions(g/km)  \n",
       "0                           33                  196  \n",
       "1                           29                  221  \n",
       "2                           48                  136  \n",
       "3                           25                  255  \n",
       "4                           27                  244  "
      ]
     },
     "execution_count": 2,
     "metadata": {},
     "output_type": "execute_result"
    }
   ],
   "source": [
    "data = pd.read_csv('../data/CO2 Emissions_Canada.csv')\n",
    "data.head()"
   ]
  },
  {
   "cell_type": "code",
   "execution_count": 3,
   "metadata": {},
   "outputs": [
    {
     "name": "stdout",
     "output_type": "stream",
     "text": [
      "<class 'pandas.core.frame.DataFrame'>\n",
      "RangeIndex: 7385 entries, 0 to 7384\n",
      "Data columns (total 12 columns):\n",
      " #   Column                            Non-Null Count  Dtype  \n",
      "---  ------                            --------------  -----  \n",
      " 0   Make                              7385 non-null   object \n",
      " 1   Model                             7385 non-null   object \n",
      " 2   Vehicle Class                     7385 non-null   object \n",
      " 3   Engine Size(L)                    7385 non-null   float64\n",
      " 4   Cylinders                         7385 non-null   int64  \n",
      " 5   Transmission                      7385 non-null   object \n",
      " 6   Fuel Type                         7385 non-null   object \n",
      " 7   Fuel Consumption City (L/100 km)  7385 non-null   float64\n",
      " 8   Fuel Consumption Hwy (L/100 km)   7385 non-null   float64\n",
      " 9   Fuel Consumption Comb (L/100 km)  7385 non-null   float64\n",
      " 10  Fuel Consumption Comb (mpg)       7385 non-null   int64  \n",
      " 11  CO2 Emissions(g/km)               7385 non-null   int64  \n",
      "dtypes: float64(4), int64(3), object(5)\n",
      "memory usage: 692.5+ KB\n"
     ]
    }
   ],
   "source": [
    "data.info()"
   ]
  },
  {
   "cell_type": "code",
   "execution_count": 4,
   "metadata": {},
   "outputs": [
    {
     "data": {
      "text/plain": [
       "CO2 Emissions(g/km)                 1.000000\n",
       "Fuel Consumption City (L/100 km)    0.919592\n",
       "Fuel Consumption Comb (L/100 km)    0.918052\n",
       "Fuel Consumption Hwy (L/100 km)     0.883536\n",
       "Engine Size(L)                      0.851145\n",
       "Cylinders                           0.832644\n",
       "Fuel Consumption Comb (mpg)        -0.907426\n",
       "Name: CO2 Emissions(g/km), dtype: float64"
      ]
     },
     "execution_count": 4,
     "metadata": {},
     "output_type": "execute_result"
    }
   ],
   "source": [
    "corr_matrix = data.corr()\n",
    "corr_matrix['CO2 Emissions(g/km)'].sort_values(ascending=False)"
   ]
  },
  {
   "cell_type": "code",
   "execution_count": 5,
   "metadata": {},
   "outputs": [
    {
     "data": {
      "text/plain": [
       "Make                                0\n",
       "Model                               0\n",
       "Vehicle Class                       0\n",
       "Engine Size(L)                      0\n",
       "Cylinders                           0\n",
       "Transmission                        0\n",
       "Fuel Type                           0\n",
       "Fuel Consumption City (L/100 km)    0\n",
       "Fuel Consumption Hwy (L/100 km)     0\n",
       "Fuel Consumption Comb (L/100 km)    0\n",
       "Fuel Consumption Comb (mpg)         0\n",
       "CO2 Emissions(g/km)                 0\n",
       "dtype: int64"
      ]
     },
     "execution_count": 5,
     "metadata": {},
     "output_type": "execute_result"
    }
   ],
   "source": [
    "data.isnull().sum()"
   ]
  },
  {
   "cell_type": "code",
   "execution_count": 6,
   "metadata": {
    "scrolled": true
   },
   "outputs": [
    {
     "name": "stdout",
     "output_type": "stream",
     "text": [
      "<class 'pandas.core.frame.DataFrame'>\n",
      "RangeIndex: 7385 entries, 0 to 7384\n",
      "Data columns (total 10 columns):\n",
      " #   Column                            Non-Null Count  Dtype  \n",
      "---  ------                            --------------  -----  \n",
      " 0   Vehicle Class                     7385 non-null   object \n",
      " 1   Engine Size(L)                    7385 non-null   float64\n",
      " 2   Cylinders                         7385 non-null   int64  \n",
      " 3   Transmission                      7385 non-null   object \n",
      " 4   Fuel Type                         7385 non-null   object \n",
      " 5   Fuel Consumption City (L/100 km)  7385 non-null   float64\n",
      " 6   Fuel Consumption Hwy (L/100 km)   7385 non-null   float64\n",
      " 7   Fuel Consumption Comb (L/100 km)  7385 non-null   float64\n",
      " 8   Fuel Consumption Comb (mpg)       7385 non-null   int64  \n",
      " 9   CO2 Emissions(g/km)               7385 non-null   int64  \n",
      "dtypes: float64(4), int64(3), object(3)\n",
      "memory usage: 577.1+ KB\n"
     ]
    }
   ],
   "source": [
    "data_reg = data.drop(columns=['Make','Model'])\n",
    "data_reg.info()"
   ]
  },
  {
   "cell_type": "code",
   "execution_count": 7,
   "metadata": {},
   "outputs": [],
   "source": [
    "data_with_dummies = data_reg.copy()\n",
    "\n",
    "col_to_1hot = ['Vehicle Class','Transmission','Fuel Type','Cylinders']\n",
    "prfix_1hot = ['V-Cls', 'Trans', 'Fl-T','Cyl']\n",
    "\n",
    "for col, pfx in zip(col_to_1hot, prfix_1hot):\n",
    "    fuel_1hot = pd.get_dummies(data_reg[col], prefix=pfx, drop_first=True)\n",
    "    data_with_dummies = data_with_dummies.join(fuel_1hot)"
   ]
  },
  {
   "cell_type": "code",
   "execution_count": 8,
   "metadata": {},
   "outputs": [
    {
     "data": {
      "text/html": [
       "<div>\n",
       "<style scoped>\n",
       "    .dataframe tbody tr th:only-of-type {\n",
       "        vertical-align: middle;\n",
       "    }\n",
       "\n",
       "    .dataframe tbody tr th {\n",
       "        vertical-align: top;\n",
       "    }\n",
       "\n",
       "    .dataframe thead th {\n",
       "        text-align: right;\n",
       "    }\n",
       "</style>\n",
       "<table border=\"1\" class=\"dataframe\">\n",
       "  <thead>\n",
       "    <tr style=\"text-align: right;\">\n",
       "      <th></th>\n",
       "      <th>Vehicle Class</th>\n",
       "      <th>Engine Size(L)</th>\n",
       "      <th>Cylinders</th>\n",
       "      <th>Transmission</th>\n",
       "      <th>Fuel Type</th>\n",
       "      <th>Fuel Consumption City (L/100 km)</th>\n",
       "      <th>Fuel Consumption Hwy (L/100 km)</th>\n",
       "      <th>Fuel Consumption Comb (L/100 km)</th>\n",
       "      <th>Fuel Consumption Comb (mpg)</th>\n",
       "      <th>CO2 Emissions(g/km)</th>\n",
       "      <th>...</th>\n",
       "      <th>Fl-T_N</th>\n",
       "      <th>Fl-T_X</th>\n",
       "      <th>Fl-T_Z</th>\n",
       "      <th>Cyl_4</th>\n",
       "      <th>Cyl_5</th>\n",
       "      <th>Cyl_6</th>\n",
       "      <th>Cyl_8</th>\n",
       "      <th>Cyl_10</th>\n",
       "      <th>Cyl_12</th>\n",
       "      <th>Cyl_16</th>\n",
       "    </tr>\n",
       "  </thead>\n",
       "  <tbody>\n",
       "    <tr>\n",
       "      <th>0</th>\n",
       "      <td>COMPACT</td>\n",
       "      <td>2.0</td>\n",
       "      <td>4</td>\n",
       "      <td>AS5</td>\n",
       "      <td>Z</td>\n",
       "      <td>9.9</td>\n",
       "      <td>6.7</td>\n",
       "      <td>8.5</td>\n",
       "      <td>33</td>\n",
       "      <td>196</td>\n",
       "      <td>...</td>\n",
       "      <td>0</td>\n",
       "      <td>0</td>\n",
       "      <td>1</td>\n",
       "      <td>1</td>\n",
       "      <td>0</td>\n",
       "      <td>0</td>\n",
       "      <td>0</td>\n",
       "      <td>0</td>\n",
       "      <td>0</td>\n",
       "      <td>0</td>\n",
       "    </tr>\n",
       "    <tr>\n",
       "      <th>1</th>\n",
       "      <td>COMPACT</td>\n",
       "      <td>2.4</td>\n",
       "      <td>4</td>\n",
       "      <td>M6</td>\n",
       "      <td>Z</td>\n",
       "      <td>11.2</td>\n",
       "      <td>7.7</td>\n",
       "      <td>9.6</td>\n",
       "      <td>29</td>\n",
       "      <td>221</td>\n",
       "      <td>...</td>\n",
       "      <td>0</td>\n",
       "      <td>0</td>\n",
       "      <td>1</td>\n",
       "      <td>1</td>\n",
       "      <td>0</td>\n",
       "      <td>0</td>\n",
       "      <td>0</td>\n",
       "      <td>0</td>\n",
       "      <td>0</td>\n",
       "      <td>0</td>\n",
       "    </tr>\n",
       "    <tr>\n",
       "      <th>2</th>\n",
       "      <td>COMPACT</td>\n",
       "      <td>1.5</td>\n",
       "      <td>4</td>\n",
       "      <td>AV7</td>\n",
       "      <td>Z</td>\n",
       "      <td>6.0</td>\n",
       "      <td>5.8</td>\n",
       "      <td>5.9</td>\n",
       "      <td>48</td>\n",
       "      <td>136</td>\n",
       "      <td>...</td>\n",
       "      <td>0</td>\n",
       "      <td>0</td>\n",
       "      <td>1</td>\n",
       "      <td>1</td>\n",
       "      <td>0</td>\n",
       "      <td>0</td>\n",
       "      <td>0</td>\n",
       "      <td>0</td>\n",
       "      <td>0</td>\n",
       "      <td>0</td>\n",
       "    </tr>\n",
       "    <tr>\n",
       "      <th>3</th>\n",
       "      <td>SUV - SMALL</td>\n",
       "      <td>3.5</td>\n",
       "      <td>6</td>\n",
       "      <td>AS6</td>\n",
       "      <td>Z</td>\n",
       "      <td>12.7</td>\n",
       "      <td>9.1</td>\n",
       "      <td>11.1</td>\n",
       "      <td>25</td>\n",
       "      <td>255</td>\n",
       "      <td>...</td>\n",
       "      <td>0</td>\n",
       "      <td>0</td>\n",
       "      <td>1</td>\n",
       "      <td>0</td>\n",
       "      <td>0</td>\n",
       "      <td>1</td>\n",
       "      <td>0</td>\n",
       "      <td>0</td>\n",
       "      <td>0</td>\n",
       "      <td>0</td>\n",
       "    </tr>\n",
       "    <tr>\n",
       "      <th>4</th>\n",
       "      <td>SUV - SMALL</td>\n",
       "      <td>3.5</td>\n",
       "      <td>6</td>\n",
       "      <td>AS6</td>\n",
       "      <td>Z</td>\n",
       "      <td>12.1</td>\n",
       "      <td>8.7</td>\n",
       "      <td>10.6</td>\n",
       "      <td>27</td>\n",
       "      <td>244</td>\n",
       "      <td>...</td>\n",
       "      <td>0</td>\n",
       "      <td>0</td>\n",
       "      <td>1</td>\n",
       "      <td>0</td>\n",
       "      <td>0</td>\n",
       "      <td>1</td>\n",
       "      <td>0</td>\n",
       "      <td>0</td>\n",
       "      <td>0</td>\n",
       "      <td>0</td>\n",
       "    </tr>\n",
       "  </tbody>\n",
       "</table>\n",
       "<p>5 rows × 62 columns</p>\n",
       "</div>"
      ],
      "text/plain": [
       "  Vehicle Class  Engine Size(L)  Cylinders Transmission Fuel Type  \\\n",
       "0       COMPACT             2.0          4          AS5         Z   \n",
       "1       COMPACT             2.4          4           M6         Z   \n",
       "2       COMPACT             1.5          4          AV7         Z   \n",
       "3   SUV - SMALL             3.5          6          AS6         Z   \n",
       "4   SUV - SMALL             3.5          6          AS6         Z   \n",
       "\n",
       "   Fuel Consumption City (L/100 km)  Fuel Consumption Hwy (L/100 km)  \\\n",
       "0                               9.9                              6.7   \n",
       "1                              11.2                              7.7   \n",
       "2                               6.0                              5.8   \n",
       "3                              12.7                              9.1   \n",
       "4                              12.1                              8.7   \n",
       "\n",
       "   Fuel Consumption Comb (L/100 km)  Fuel Consumption Comb (mpg)  \\\n",
       "0                               8.5                           33   \n",
       "1                               9.6                           29   \n",
       "2                               5.9                           48   \n",
       "3                              11.1                           25   \n",
       "4                              10.6                           27   \n",
       "\n",
       "   CO2 Emissions(g/km)  ...  Fl-T_N  Fl-T_X  Fl-T_Z  Cyl_4  Cyl_5  Cyl_6  \\\n",
       "0                  196  ...       0       0       1      1      0      0   \n",
       "1                  221  ...       0       0       1      1      0      0   \n",
       "2                  136  ...       0       0       1      1      0      0   \n",
       "3                  255  ...       0       0       1      0      0      1   \n",
       "4                  244  ...       0       0       1      0      0      1   \n",
       "\n",
       "   Cyl_8  Cyl_10  Cyl_12  Cyl_16  \n",
       "0      0       0       0       0  \n",
       "1      0       0       0       0  \n",
       "2      0       0       0       0  \n",
       "3      0       0       0       0  \n",
       "4      0       0       0       0  \n",
       "\n",
       "[5 rows x 62 columns]"
      ]
     },
     "execution_count": 8,
     "metadata": {},
     "output_type": "execute_result"
    }
   ],
   "source": [
    "data_with_dummies.head()"
   ]
  },
  {
   "cell_type": "code",
   "execution_count": 9,
   "metadata": {},
   "outputs": [
    {
     "name": "stdout",
     "output_type": "stream",
     "text": [
      "<class 'pandas.core.frame.DataFrame'>\n",
      "RangeIndex: 7385 entries, 0 to 7384\n",
      "Data columns (total 57 columns):\n",
      " #   Column                            Non-Null Count  Dtype  \n",
      "---  ------                            --------------  -----  \n",
      " 0   Engine Size(L)                    7385 non-null   float64\n",
      " 1   Fuel Consumption City (L/100 km)  7385 non-null   float64\n",
      " 2   Fuel Consumption Hwy (L/100 km)   7385 non-null   float64\n",
      " 3   Fuel Consumption Comb (L/100 km)  7385 non-null   float64\n",
      " 4   Fuel Consumption Comb (mpg)       7385 non-null   int64  \n",
      " 5   V-Cls_FULL-SIZE                   7385 non-null   uint8  \n",
      " 6   V-Cls_MID-SIZE                    7385 non-null   uint8  \n",
      " 7   V-Cls_MINICOMPACT                 7385 non-null   uint8  \n",
      " 8   V-Cls_MINIVAN                     7385 non-null   uint8  \n",
      " 9   V-Cls_PICKUP TRUCK - SMALL        7385 non-null   uint8  \n",
      " 10  V-Cls_PICKUP TRUCK - STANDARD     7385 non-null   uint8  \n",
      " 11  V-Cls_SPECIAL PURPOSE VEHICLE     7385 non-null   uint8  \n",
      " 12  V-Cls_STATION WAGON - MID-SIZE    7385 non-null   uint8  \n",
      " 13  V-Cls_STATION WAGON - SMALL       7385 non-null   uint8  \n",
      " 14  V-Cls_SUBCOMPACT                  7385 non-null   uint8  \n",
      " 15  V-Cls_SUV - SMALL                 7385 non-null   uint8  \n",
      " 16  V-Cls_SUV - STANDARD              7385 non-null   uint8  \n",
      " 17  V-Cls_TWO-SEATER                  7385 non-null   uint8  \n",
      " 18  V-Cls_VAN - CARGO                 7385 non-null   uint8  \n",
      " 19  V-Cls_VAN - PASSENGER             7385 non-null   uint8  \n",
      " 20  Trans_A4                          7385 non-null   uint8  \n",
      " 21  Trans_A5                          7385 non-null   uint8  \n",
      " 22  Trans_A6                          7385 non-null   uint8  \n",
      " 23  Trans_A7                          7385 non-null   uint8  \n",
      " 24  Trans_A8                          7385 non-null   uint8  \n",
      " 25  Trans_A9                          7385 non-null   uint8  \n",
      " 26  Trans_AM5                         7385 non-null   uint8  \n",
      " 27  Trans_AM6                         7385 non-null   uint8  \n",
      " 28  Trans_AM7                         7385 non-null   uint8  \n",
      " 29  Trans_AM8                         7385 non-null   uint8  \n",
      " 30  Trans_AM9                         7385 non-null   uint8  \n",
      " 31  Trans_AS10                        7385 non-null   uint8  \n",
      " 32  Trans_AS4                         7385 non-null   uint8  \n",
      " 33  Trans_AS5                         7385 non-null   uint8  \n",
      " 34  Trans_AS6                         7385 non-null   uint8  \n",
      " 35  Trans_AS7                         7385 non-null   uint8  \n",
      " 36  Trans_AS8                         7385 non-null   uint8  \n",
      " 37  Trans_AS9                         7385 non-null   uint8  \n",
      " 38  Trans_AV                          7385 non-null   uint8  \n",
      " 39  Trans_AV10                        7385 non-null   uint8  \n",
      " 40  Trans_AV6                         7385 non-null   uint8  \n",
      " 41  Trans_AV7                         7385 non-null   uint8  \n",
      " 42  Trans_AV8                         7385 non-null   uint8  \n",
      " 43  Trans_M5                          7385 non-null   uint8  \n",
      " 44  Trans_M6                          7385 non-null   uint8  \n",
      " 45  Trans_M7                          7385 non-null   uint8  \n",
      " 46  Fl-T_E                            7385 non-null   uint8  \n",
      " 47  Fl-T_N                            7385 non-null   uint8  \n",
      " 48  Fl-T_X                            7385 non-null   uint8  \n",
      " 49  Fl-T_Z                            7385 non-null   uint8  \n",
      " 50  Cyl_4                             7385 non-null   uint8  \n",
      " 51  Cyl_5                             7385 non-null   uint8  \n",
      " 52  Cyl_6                             7385 non-null   uint8  \n",
      " 53  Cyl_8                             7385 non-null   uint8  \n",
      " 54  Cyl_10                            7385 non-null   uint8  \n",
      " 55  Cyl_12                            7385 non-null   uint8  \n",
      " 56  Cyl_16                            7385 non-null   uint8  \n",
      "dtypes: float64(4), int64(1), uint8(52)\n",
      "memory usage: 663.6 KB\n"
     ]
    }
   ],
   "source": [
    "col_to_drop = col_to_1hot + ['CO2 Emissions(g/km)']\n",
    "labels = data_with_dummies['CO2 Emissions(g/km)']\n",
    "final_data = data_with_dummies.drop(col_to_drop, axis=1)\n",
    "final_data.info()"
   ]
  },
  {
   "cell_type": "markdown",
   "metadata": {},
   "source": [
    "## Regression"
   ]
  },
  {
   "cell_type": "code",
   "execution_count": 10,
   "metadata": {},
   "outputs": [],
   "source": [
    "from sklearn.model_selection import train_test_split, GridSearchCV\n",
    "from sklearn.linear_model import LinearRegression\n",
    "from sklearn.metrics import mean_squared_error"
   ]
  },
  {
   "cell_type": "code",
   "execution_count": 11,
   "metadata": {},
   "outputs": [
    {
     "name": "stdout",
     "output_type": "stream",
     "text": [
      "RMSE of Train Data :  4.737443359066909\n",
      "RMSE of Test Data :  4.698992548166578\n"
     ]
    }
   ],
   "source": [
    "X_train, X_test, y_train, y_test = train_test_split(final_data, labels, test_size=0.2, random_state=12)\n",
    "\n",
    "lin_reg = LinearRegression()\n",
    "lin_reg.fit(X_train, y_train)\n",
    "\n",
    "pred_tr = lin_reg.predict(X_train)\n",
    "pred_test = lin_reg.predict(X_test)\n",
    "\n",
    "rmse_tr = (np.sqrt(mean_squared_error(y_train, pred_tr)))\n",
    "rmse_test = (np.sqrt(mean_squared_error(y_test, pred_test)))\n",
    "\n",
    "print('RMSE of Train Data : ', rmse_tr)\n",
    "print('RMSE of Test Data : ', rmse_test)"
   ]
  },
  {
   "cell_type": "code",
   "execution_count": 12,
   "metadata": {},
   "outputs": [
    {
     "data": {
      "text/plain": [
       "0.9931729724310766"
      ]
     },
     "execution_count": 12,
     "metadata": {},
     "output_type": "execute_result"
    }
   ],
   "source": [
    "lin_reg.score(X_test,y_test)"
   ]
  },
  {
   "cell_type": "code",
   "execution_count": 13,
   "metadata": {},
   "outputs": [
    {
     "data": {
      "text/plain": [
       "0.993532796370605"
      ]
     },
     "execution_count": 13,
     "metadata": {},
     "output_type": "execute_result"
    }
   ],
   "source": [
    "lin_reg.score(X_train,y_train)"
   ]
  },
  {
   "cell_type": "markdown",
   "metadata": {},
   "source": [
    "## 모델평가 - RMSE "
   ]
  },
  {
   "cell_type": "code",
   "execution_count": 14,
   "metadata": {},
   "outputs": [
    {
     "data": {
      "image/png": "[encoded data removed]",
      "text/plain": [
       "<Figure size 432x288 with 1 Axes>"
      ]
     },
     "metadata": {
      "image/png": {
       "height": 281,
       "width": 380
      }
     },
     "output_type": "display_data"
    }
   ],
   "source": [
    "plt.scatter(y_test, pred_test)\n",
    "plt.xlabel('Actual CO2 Emissions(g/km)')\n",
    "plt.xlabel('Predicted CO2 Emissions(g/km)')\n",
    "plt.title('Real vs Predicted')\n",
    "plt.show()"
   ]
  },
  {
   "cell_type": "code",
   "execution_count": 15,
   "metadata": {
    "scrolled": true
   },
   "outputs": [
    {
     "name": "stdout",
     "output_type": "stream",
     "text": [
      "<class 'pandas.core.frame.DataFrame'>\n",
      "RangeIndex: 7385 entries, 0 to 7384\n",
      "Data columns (total 53 columns):\n",
      " #   Column                          Non-Null Count  Dtype  \n",
      "---  ------                          --------------  -----  \n",
      " 0   Engine Size(L)                  7385 non-null   float64\n",
      " 1   V-Cls_FULL-SIZE                 7385 non-null   uint8  \n",
      " 2   V-Cls_MID-SIZE                  7385 non-null   uint8  \n",
      " 3   V-Cls_MINICOMPACT               7385 non-null   uint8  \n",
      " 4   V-Cls_MINIVAN                   7385 non-null   uint8  \n",
      " 5   V-Cls_PICKUP TRUCK - SMALL      7385 non-null   uint8  \n",
      " 6   V-Cls_PICKUP TRUCK - STANDARD   7385 non-null   uint8  \n",
      " 7   V-Cls_SPECIAL PURPOSE VEHICLE   7385 non-null   uint8  \n",
      " 8   V-Cls_STATION WAGON - MID-SIZE  7385 non-null   uint8  \n",
      " 9   V-Cls_STATION WAGON - SMALL     7385 non-null   uint8  \n",
      " 10  V-Cls_SUBCOMPACT                7385 non-null   uint8  \n",
      " 11  V-Cls_SUV - SMALL               7385 non-null   uint8  \n",
      " 12  V-Cls_SUV - STANDARD            7385 non-null   uint8  \n",
      " 13  V-Cls_TWO-SEATER                7385 non-null   uint8  \n",
      " 14  V-Cls_VAN - CARGO               7385 non-null   uint8  \n",
      " 15  V-Cls_VAN - PASSENGER           7385 non-null   uint8  \n",
      " 16  Trans_A4                        7385 non-null   uint8  \n",
      " 17  Trans_A5                        7385 non-null   uint8  \n",
      " 18  Trans_A6                        7385 non-null   uint8  \n",
      " 19  Trans_A7                        7385 non-null   uint8  \n",
      " 20  Trans_A8                        7385 non-null   uint8  \n",
      " 21  Trans_A9                        7385 non-null   uint8  \n",
      " 22  Trans_AM5                       7385 non-null   uint8  \n",
      " 23  Trans_AM6                       7385 non-null   uint8  \n",
      " 24  Trans_AM7                       7385 non-null   uint8  \n",
      " 25  Trans_AM8                       7385 non-null   uint8  \n",
      " 26  Trans_AM9                       7385 non-null   uint8  \n",
      " 27  Trans_AS10                      7385 non-null   uint8  \n",
      " 28  Trans_AS4                       7385 non-null   uint8  \n",
      " 29  Trans_AS5                       7385 non-null   uint8  \n",
      " 30  Trans_AS6                       7385 non-null   uint8  \n",
      " 31  Trans_AS7                       7385 non-null   uint8  \n",
      " 32  Trans_AS8                       7385 non-null   uint8  \n",
      " 33  Trans_AS9                       7385 non-null   uint8  \n",
      " 34  Trans_AV                        7385 non-null   uint8  \n",
      " 35  Trans_AV10                      7385 non-null   uint8  \n",
      " 36  Trans_AV6                       7385 non-null   uint8  \n",
      " 37  Trans_AV7                       7385 non-null   uint8  \n",
      " 38  Trans_AV8                       7385 non-null   uint8  \n",
      " 39  Trans_M5                        7385 non-null   uint8  \n",
      " 40  Trans_M6                        7385 non-null   uint8  \n",
      " 41  Trans_M7                        7385 non-null   uint8  \n",
      " 42  Fl-T_E                          7385 non-null   uint8  \n",
      " 43  Fl-T_N                          7385 non-null   uint8  \n",
      " 44  Fl-T_X                          7385 non-null   uint8  \n",
      " 45  Fl-T_Z                          7385 non-null   uint8  \n",
      " 46  Cyl_4                           7385 non-null   uint8  \n",
      " 47  Cyl_5                           7385 non-null   uint8  \n",
      " 48  Cyl_6                           7385 non-null   uint8  \n",
      " 49  Cyl_8                           7385 non-null   uint8  \n",
      " 50  Cyl_10                          7385 non-null   uint8  \n",
      " 51  Cyl_12                          7385 non-null   uint8  \n",
      " 52  Cyl_16                          7385 non-null   uint8  \n",
      "dtypes: float64(1), uint8(52)\n",
      "memory usage: 432.8 KB\n"
     ]
    }
   ],
   "source": [
    "final_data2 = final_data.drop(['Fuel Consumption Hwy (L/100 km)','Fuel Consumption Comb (L/100 km)','Fuel Consumption Comb (mpg)','Fuel Consumption City (L/100 km)'], axis=1)\n",
    "final_data2.info()"
   ]
  },
  {
   "cell_type": "code",
   "execution_count": 16,
   "metadata": {},
   "outputs": [
    {
     "name": "stdout",
     "output_type": "stream",
     "text": [
      "RMSE of Train : 22.2 , Test : 22.86 / Score of Train: 0.8555 , Score of Test: 0.8492\n"
     ]
    }
   ],
   "source": [
    "X_train, X_test, y_train, y_test = train_test_split(final_data2, labels, test_size=0.2, random_state=15)\n",
    "\n",
    "lin_reg2 = LinearRegression()\n",
    "lin_reg2.fit(X_train, y_train)\n",
    "\n",
    "pred_tr = lin_reg2.predict(X_train)\n",
    "pred_test = lin_reg2.predict(X_test)\n",
    "rmse_tr = (np.sqrt(mean_squared_error(y_train, pred_tr)))\n",
    "rmse_test = (np.sqrt(mean_squared_error(y_test, pred_test)))\n",
    "\n",
    "print('RMSE of Train :', round(rmse_tr,2) , ', Test :', round(rmse_test,2), '/ Score of Train:',round(lin_reg2.score(X_train,y_train),4), ', Score of Test:', round(lin_reg2.score(X_test,y_test),4),)\n"
   ]
  },
  {
   "cell_type": "code",
   "execution_count": 17,
   "metadata": {},
   "outputs": [
    {
     "data": {
      "image/png": "[encoded data removed]",
      "text/plain": [
       "<Figure size 432x288 with 1 Axes>"
      ]
     },
     "metadata": {
      "image/png": {
       "height": 281,
       "width": 392
      }
     },
     "output_type": "display_data"
    }
   ],
   "source": [
    "plt.scatter(y_test, pred_test)\n",
    "plt.xlabel('Actual CO2 Emissions(g/km)')\n",
    "plt.ylabel('Predicted CO2 Emissions(g/km)')\n",
    "plt.title('Real vs Predicted')\n",
    "\n",
    "x = np.linspace(100,500)\n",
    "plt.plot(x, x, 'r')\n",
    "plt.show()"
   ]
  },
  {
   "cell_type": "markdown",
   "metadata": {},
   "source": [
    "## OLS"
   ]
  },
  {
   "cell_type": "code",
   "execution_count": 18,
   "metadata": {
    "scrolled": false
   },
   "outputs": [
    {
     "name": "stdout",
     "output_type": "stream",
     "text": [
      "                             OLS Regression Results                            \n",
      "===============================================================================\n",
      "Dep. Variable:     CO2 Emissions(g/km)   R-squared:                       0.855\n",
      "Model:                             OLS   Adj. R-squared:                  0.854\n",
      "Method:                  Least Squares   F-statistic:                     813.0\n",
      "Date:                 Fri, 26 Mar 2021   Prob (F-statistic):               0.00\n",
      "Time:                         18:29:49   Log-Likelihood:                -33410.\n",
      "No. Observations:                 7385   AIC:                         6.693e+04\n",
      "Df Residuals:                     7331   BIC:                         6.730e+04\n",
      "Df Model:                           53                                         \n",
      "Covariance Type:             nonrobust                                         \n",
      "==================================================================================================\n",
      "                                     coef    std err          t      P>|t|      [0.025      0.975]\n",
      "--------------------------------------------------------------------------------------------------\n",
      "const                            110.5055      5.201     21.248      0.000     100.311     120.700\n",
      "Engine Size(L)                    19.1435      0.672     28.482      0.000      17.826      20.461\n",
      "V-Cls_FULL-SIZE                    7.7764      1.221      6.369      0.000       5.383      10.170\n",
      "V-Cls_MID-SIZE                    -0.7546      0.996     -0.758      0.449      -2.707       1.198\n",
      "V-Cls_MINICOMPACT                 -7.1442      1.652     -4.324      0.000     -10.383      -3.906\n",
      "V-Cls_MINIVAN                     26.3106      2.711      9.707      0.000      20.997      31.624\n",
      "V-Cls_PICKUP TRUCK - SMALL        54.9498      2.042     26.906      0.000      50.946      58.953\n",
      "V-Cls_PICKUP TRUCK - STANDARD     36.9577      1.490     24.798      0.000      34.036      39.879\n",
      "V-Cls_SPECIAL PURPOSE VEHICLE     42.0343      2.707     15.529      0.000      36.728      47.341\n",
      "V-Cls_STATION WAGON - MID-SIZE     7.9557      3.209      2.479      0.013       1.666      14.245\n",
      "V-Cls_STATION WAGON - SMALL       10.3446      1.611      6.420      0.000       7.186      13.503\n",
      "V-Cls_SUBCOMPACT                   5.0975      1.176      4.335      0.000       2.792       7.403\n",
      "V-Cls_SUV - SMALL                 28.6582      1.023     28.021      0.000      26.653      30.663\n",
      "V-Cls_SUV - STANDARD              38.9038      1.251     31.088      0.000      36.451      41.357\n",
      "V-Cls_TWO-SEATER                   8.5633      1.376      6.222      0.000       5.866      11.261\n",
      "V-Cls_VAN - CARGO                 82.5185      6.030     13.685      0.000      70.698      94.339\n",
      "V-Cls_VAN - PASSENGER            116.8050      3.068     38.069      0.000     110.790     122.820\n",
      "Trans_A4                          28.1212      5.481      5.131      0.000      17.378      38.865\n",
      "Trans_A5                          43.0836      4.851      8.881      0.000      33.574      52.593\n",
      "Trans_A6                          28.1737      4.201      6.707      0.000      19.940      36.408\n",
      "Trans_A7                          35.8962      5.190      6.917      0.000      25.723      46.070\n",
      "Trans_A8                          21.0662      4.213      5.001      0.000      12.808      29.324\n",
      "Trans_A9                          26.4813      4.346      6.093      0.000      17.962      35.001\n",
      "Trans_AM5                         -5.5190     12.255     -0.450      0.652     -29.543      18.505\n",
      "Trans_AM6                         14.7603      4.644      3.178      0.001       5.657      23.864\n",
      "Trans_AM7                         35.4215      4.332      8.177      0.000      26.930      43.913\n",
      "Trans_AM8                         21.7701      5.078      4.287      0.000      11.815      31.725\n",
      "Trans_AM9                         22.3219     13.637      1.637      0.102      -4.411      49.055\n",
      "Trans_AS10                        34.3727      4.462      7.703      0.000      25.625      43.120\n",
      "Trans_AS4                         46.8196     16.440      2.848      0.004      14.593      79.047\n",
      "Trans_AS5                         37.2418      6.046      6.160      0.000      25.389      49.094\n",
      "Trans_AS6                         34.1569      4.215      8.104      0.000      25.894      42.420\n",
      "Trans_AS7                         20.7209      4.313      4.804      0.000      12.266      29.176\n",
      "Trans_AS8                         28.2102      4.199      6.719      0.000      19.979      36.441\n",
      "Trans_AS9                         16.4051      4.874      3.366      0.001       6.851      25.959\n",
      "Trans_AV                          -2.0650      4.420     -0.467      0.640     -10.730       6.600\n",
      "Trans_AV10                       -21.2537      7.945     -2.675      0.007     -36.828      -5.679\n",
      "Trans_AV6                         -9.1866      4.681     -1.963      0.050     -18.363      -0.011\n",
      "Trans_AV7                          7.9106      4.695      1.685      0.092      -1.293      17.115\n",
      "Trans_AV8                         17.7175      5.496      3.224      0.001       6.943      28.492\n",
      "Trans_M5                          28.3026      4.544      6.229      0.000      19.396      37.209\n",
      "Trans_M6                          34.7613      4.246      8.186      0.000      26.437      43.085\n",
      "Trans_M7                          28.1952      4.935      5.713      0.000      18.520      37.870\n",
      "Fl-T_E                           -17.1589      2.159     -7.947      0.000     -21.392     -12.926\n",
      "Fl-T_N                           -36.6247     22.487     -1.629      0.103     -80.706       7.456\n",
      "Fl-T_X                            -1.3863      1.810     -0.766      0.444      -4.935       2.162\n",
      "Fl-T_Z                            15.8067      1.850      8.543      0.000      12.180      19.434\n",
      "Cyl_4                             14.2721      2.442      5.845      0.000       9.486      19.058\n",
      "Cyl_5                             34.1813      5.071      6.741      0.000      24.241      44.121\n",
      "Cyl_6                             36.8003      2.759     13.340      0.000      31.393      42.208\n",
      "Cyl_8                             51.5778      3.501     14.732      0.000      44.715      58.441\n",
      "Cyl_10                            81.4011      5.227     15.572      0.000      71.154      91.648\n",
      "Cyl_12                           101.9191      4.503     22.632      0.000      93.091     110.747\n",
      "Cyl_16                           198.5549     13.967     14.216      0.000     171.175     225.935\n",
      "==============================================================================\n",
      "Omnibus:                      410.271   Durbin-Watson:                   1.195\n",
      "Prob(Omnibus):                  0.000   Jarque-Bera (JB):             1215.295\n",
      "Skew:                           0.262   Prob(JB):                    1.26e-264\n",
      "Kurtosis:                       4.917   Cond. No.                         317.\n",
      "==============================================================================\n",
      "\n",
      "Notes:\n",
      "[1] Standard Errors assume that the covariance matrix of the errors is correctly specified.\n"
     ]
    }
   ],
   "source": [
    "import statsmodels.api as sm\n",
    "\n",
    "# 상수항 추가\n",
    "final_data_c = sm.add_constant(final_data2, has_constant='add')\n",
    "\n",
    "multi_model = sm.OLS(labels, final_data_c)\n",
    "f_ols = multi_model.fit()\n",
    "print(f_ols.summary())"
   ]
  },
  {
   "cell_type": "markdown",
   "metadata": {},
   "source": [
    "## 일부 데이터를 빼서 다시 OLS"
   ]
  },
  {
   "cell_type": "code",
   "execution_count": 19,
   "metadata": {},
   "outputs": [
    {
     "name": "stdout",
     "output_type": "stream",
     "text": [
      "                             OLS Regression Results                            \n",
      "===============================================================================\n",
      "Dep. Variable:     CO2 Emissions(g/km)   R-squared:                       0.855\n",
      "Model:                             OLS   Adj. R-squared:                  0.854\n",
      "Method:                  Least Squares   F-statistic:                     879.6\n",
      "Date:                 Fri, 26 Mar 2021   Prob (F-statistic):               0.00\n",
      "Time:                         18:29:49   Log-Likelihood:                -33410.\n",
      "No. Observations:                 7385   AIC:                         6.692e+04\n",
      "Df Residuals:                     7335   BIC:                         6.727e+04\n",
      "Df Model:                           49                                         \n",
      "Covariance Type:             nonrobust                                         \n",
      "==================================================================================================\n",
      "                                     coef    std err          t      P>|t|      [0.025      0.975]\n",
      "--------------------------------------------------------------------------------------------------\n",
      "const                            106.6906      2.743     38.901      0.000     101.314     112.067\n",
      "Engine Size(L)                    19.0864      0.660     28.910      0.000      17.792      20.381\n",
      "V-Cls_FULL-SIZE                    8.1828      1.084      7.547      0.000       6.057      10.308\n",
      "V-Cls_MINICOMPACT                 -6.7967      1.587     -4.284      0.000      -9.907      -3.686\n",
      "V-Cls_MINIVAN                     26.7353      2.640     10.128      0.000      21.560      31.910\n",
      "V-Cls_PICKUP TRUCK - SMALL        55.5639      1.949     28.509      0.000      51.743      59.384\n",
      "V-Cls_PICKUP TRUCK - STANDARD     37.5817      1.337     28.104      0.000      34.960      40.203\n",
      "V-Cls_SPECIAL PURPOSE VEHICLE     42.4222      2.644     16.042      0.000      37.238      47.606\n",
      "V-Cls_STATION WAGON - MID-SIZE     8.3514      3.155      2.647      0.008       2.166      14.536\n",
      "V-Cls_STATION WAGON - SMALL       10.7317      1.530      7.014      0.000       7.732      13.731\n",
      "V-Cls_SUBCOMPACT                   5.4658      1.064      5.138      0.000       3.380       7.551\n",
      "V-Cls_SUV - SMALL                 29.0682      0.858     33.864      0.000      27.386      30.751\n",
      "V-Cls_SUV - STANDARD              39.4429      1.095     36.023      0.000      37.297      41.589\n",
      "V-Cls_TWO-SEATER                   8.8935      1.278      6.959      0.000       6.388      11.399\n",
      "V-Cls_VAN - CARGO                 82.9806      6.005     13.818      0.000      71.208      94.753\n",
      "V-Cls_VAN - PASSENGER            117.2973      3.005     39.035      0.000     111.407     123.188\n",
      "Trans_A4                          30.1527      3.731      8.081      0.000      22.838      37.467\n",
      "Trans_A5                          45.0390      2.843     15.844      0.000      39.466      50.612\n",
      "Trans_A6                          30.1666      1.560     19.340      0.000      27.109      33.224\n",
      "Trans_A7                          37.8900      3.421     11.075      0.000      31.184      44.596\n",
      "Trans_A8                          23.0610      1.697     13.585      0.000      19.733      26.389\n",
      "Trans_A9                          28.4679      1.790     15.907      0.000      24.960      31.976\n",
      "Trans_AM6                         16.8472      2.344      7.188      0.000      12.253      21.442\n",
      "Trans_AM7                         37.4645      1.803     20.783      0.000      33.931      40.998\n",
      "Trans_AM8                         23.8455      3.224      7.397      0.000      17.526      30.165\n",
      "Trans_AM9                         24.4002     13.056      1.869      0.062      -1.192      49.993\n",
      "Trans_AS10                        36.3494      2.232     16.287      0.000      31.974      40.725\n",
      "Trans_AS4                         48.8154     15.944      3.062      0.002      17.561      80.069\n",
      "Trans_AS5                         39.2195      4.621      8.487      0.000      30.160      48.279\n",
      "Trans_AS6                         36.1188      1.395     25.883      0.000      33.383      38.854\n",
      "Trans_AS7                         22.7622      1.878     12.120      0.000      19.081      26.444\n",
      "Trans_AS8                         30.2369      1.501     20.139      0.000      27.294      33.180\n",
      "Trans_AS9                         18.3839      2.908      6.321      0.000      12.683      24.085\n",
      "Trans_AV10                       -19.2377      6.889     -2.793      0.005     -32.741      -5.734\n",
      "Trans_AV6                         -7.2297      2.461     -2.938      0.003     -12.053      -2.406\n",
      "Trans_AV7                          9.7917      2.436      4.019      0.000       5.016      14.568\n",
      "Trans_AV8                         19.6999      3.822      5.154      0.000      12.207      27.193\n",
      "Trans_M5                          30.3822      2.055     14.787      0.000      26.354      34.410\n",
      "Trans_M6                          36.8068      1.485     24.782      0.000      33.895      39.718\n",
      "Trans_M7                          30.2628      3.023     10.011      0.000      24.337      36.188\n",
      "Fl-T_E                           -15.8458      1.297    -12.222      0.000     -18.387     -13.304\n",
      "Fl-T_N                           -35.5407     22.409     -1.586      0.113     -79.469       8.387\n",
      "Fl-T_Z                            17.1930      0.770     22.341      0.000      15.684      18.702\n",
      "Cyl_4                             14.4550      2.396      6.032      0.000       9.757      19.153\n",
      "Cyl_5                             34.4590      5.049      6.825      0.000      24.562      44.356\n",
      "Cyl_6                             37.0202      2.718     13.621      0.000      31.692      42.348\n",
      "Cyl_8                             51.8446      3.463     14.970      0.000      45.056      58.634\n",
      "Cyl_10                            81.7785      5.185     15.773      0.000      71.615      91.942\n",
      "Cyl_12                           102.3250      4.453     22.981      0.000      93.597     111.053\n",
      "Cyl_16                           199.0670     13.939     14.281      0.000     171.743     226.392\n",
      "==============================================================================\n",
      "Omnibus:                      409.625   Durbin-Watson:                   1.196\n",
      "Prob(Omnibus):                  0.000   Jarque-Bera (JB):             1222.084\n",
      "Skew:                           0.258   Prob(JB):                    4.24e-266\n",
      "Kurtosis:                       4.925   Cond. No.                         313.\n",
      "==============================================================================\n",
      "\n",
      "Notes:\n",
      "[1] Standard Errors assume that the covariance matrix of the errors is correctly specified.\n"
     ]
    }
   ],
   "source": [
    "high_p = ['V-Cls_MID-SIZE', 'Trans_AM5', 'Fl-T_X', 'Trans_AV']\n",
    "\n",
    "data_ols = final_data2.drop(columns=high_p)\n",
    "    \n",
    "# 상수항 추가\n",
    "final_data_c = sm.add_constant(data_ols, has_constant='add')\n",
    "\n",
    "multi_model = sm.OLS(labels, final_data_c)\n",
    "f_ols = multi_model.fit()\n",
    "print(f_ols.summary())"
   ]
  },
  {
   "cell_type": "code",
   "execution_count": 20,
   "metadata": {},
   "outputs": [],
   "source": [
    "from sklearn.linear_model import LinearRegression\n",
    "from sklearn.neighbors import KNeighborsRegressor\n",
    "from sklearn.ensemble import RandomForestRegressor\n",
    "from sklearn.tree import DecisionTreeRegressor"
   ]
  },
  {
   "cell_type": "markdown",
   "metadata": {},
   "source": [
    "## KN regressor"
   ]
  },
  {
   "cell_type": "code",
   "execution_count": 21,
   "metadata": {},
   "outputs": [
    {
     "name": "stdout",
     "output_type": "stream",
     "text": [
      "RMSE of Train : 15.06 , Test : 17.97 / Score of Train: 0.9335 , Score of Test: 0.9068\n"
     ]
    }
   ],
   "source": [
    "X_train, X_test, y_train, y_test = train_test_split(final_data2, labels, test_size=0.2, random_state=15)\n",
    "\n",
    "kn_reg = KNeighborsRegressor()\n",
    "kn_reg.fit(X_train, y_train)\n",
    "\n",
    "kn_pred_tr = kn_reg.predict(X_train)\n",
    "kn_pred_test = kn_reg.predict(X_test)\n",
    "\n",
    "kn_rmse_tr = (np.sqrt(mean_squared_error(y_train, kn_pred_tr)))\n",
    "kn_rmse_test = (np.sqrt(mean_squared_error(y_test, kn_pred_test)))\n",
    "\n",
    "print('RMSE of Train :', round(kn_rmse_tr,2) , ', Test :', round(kn_rmse_test,2), '/ Score of Train:',round(kn_reg.score(X_train,y_train),4), ', Score of Test:', round(kn_reg.score(X_test,y_test),4),)\n"
   ]
  },
  {
   "cell_type": "markdown",
   "metadata": {},
   "source": [
    "## Decision Tree Regressor"
   ]
  },
  {
   "cell_type": "code",
   "execution_count": 22,
   "metadata": {},
   "outputs": [],
   "source": [
    "from sklearn.tree import DecisionTreeRegressor"
   ]
  },
  {
   "cell_type": "code",
   "execution_count": 23,
   "metadata": {},
   "outputs": [
    {
     "name": "stdout",
     "output_type": "stream",
     "text": [
      "RMSE of Train : 12.58 , Test : 15.65 / Score of Train: 0.9536 , Score of Test: 0.9293\n"
     ]
    }
   ],
   "source": [
    "X_train, X_test, y_train, y_test = train_test_split(final_data2, labels, test_size=0.2, random_state=15)\n",
    "\n",
    "tree_reg = DecisionTreeRegressor(random_state=8)\n",
    "tree_reg.fit(X_train, y_train)\n",
    "\n",
    "tree_pred_tr = tree_reg.predict(X_train)\n",
    "tree_pred_test = tree_reg.predict(X_test)\n",
    "\n",
    "tree_rmse_tr = (np.sqrt(mean_squared_error(y_train, tree_pred_tr)))\n",
    "tree_rmse_test = (np.sqrt(mean_squared_error(y_test, tree_pred_test)))\n",
    "\n",
    "print('RMSE of Train :', round(tree_rmse_tr,2) , ', Test :', round(tree_rmse_test,2), '/ Score of Train:',round(tree_reg.score(X_train,y_train),4), ', Score of Test:', round(tree_reg.score(X_test,y_test),4),)"
   ]
  },
  {
   "cell_type": "markdown",
   "metadata": {},
   "source": [
    "### randomforest"
   ]
  },
  {
   "cell_type": "code",
   "execution_count": 24,
   "metadata": {},
   "outputs": [
    {
     "name": "stdout",
     "output_type": "stream",
     "text": [
      "RMSE of Train : 12.77 , Test : 15.37 / Score of Train: 0.9522 , Score of Test: 0.9318\n"
     ]
    }
   ],
   "source": [
    "forest_reg_trans = RandomForestRegressor(n_estimators=100, random_state=13)\n",
    "forest_reg_trans.fit(X_train, y_train)\n",
    "\n",
    "forest_pred_tr = forest_reg_trans.predict(X_train)\n",
    "forest_pred_test = forest_reg_trans.predict(X_test)\n",
    "\n",
    "forest_rmse_tr = (np.sqrt(mean_squared_error(y_train, forest_pred_tr)))\n",
    "forest_rmse_test = (np.sqrt(mean_squared_error(y_test, forest_pred_test)))\n",
    "\n",
    "print('RMSE of Train :', round(forest_rmse_tr,2) , ', Test :', round(forest_rmse_test,2), '/ Score of Train:',round(forest_reg_trans.score(X_train,y_train),4), ', Score of Test:', round(forest_reg_trans.score(X_test,y_test),4),)"
   ]
  }
 ],
 "metadata": {
  "kernelspec": {
   "display_name": "Python 3",
   "language": "python",
   "name": "python3"
  },
  "language_info": {
   "codemirror_mode": {
    "name": "ipython",
    "version": 3
   },
   "file_extension": ".py",
   "mimetype": "text/x-python",
   "name": "python",
   "nbconvert_exporter": "python",
   "pygments_lexer": "ipython3",
   "version": "3.8.5"
  }
 },
 "nbformat": 4,
 "nbformat_minor": 4
}
